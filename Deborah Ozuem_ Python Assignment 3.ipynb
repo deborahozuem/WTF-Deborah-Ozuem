{
 "cells": [
  {
   "cell_type": "markdown",
   "id": "8b586853",
   "metadata": {},
   "source": [
    "### 1. Write a program to produce the following output using for loop \n",
    "+----+ \n",
    "\\    \n",
    "/    \n",
    "\\    \n",
    "/    \n",
    "\\    \n",
    "/    \n",
    "/ \n",
    "\\ \n",
    "/ \n",
    "\\ \n",
    "/ \n",
    "\\ \n",
    "+----+"
   ]
  },
  {
   "cell_type": "code",
   "execution_count": 1,
   "id": "f25c8b62",
   "metadata": {},
   "outputs": [
    {
     "name": "stdout",
     "output_type": "stream",
     "text": [
      "+----+\n",
      "\\    /\n",
      "/    \\\n",
      "\\    /\n",
      "/    \\\n",
      "\\    /\n",
      "/    \\\n",
      "+----+\n"
     ]
    }
   ],
   "source": [
    "for i in range(5):\n",
    "    if i == 0 or i == 4:\n",
    "        print(\"+----+\")\n",
    "    else:\n",
    "        print(\"\\\\    /\")\n",
    "        print(\"/    \\\\\")"
   ]
  },
  {
   "cell_type": "markdown",
   "id": "73aeda45",
   "metadata": {},
   "source": [
    "### 2. Write a program to produce the following output using for loop \n",
    "#********** \n",
    "\n",
    "#********** \n",
    "\n",
    "#**********\n",
    "\n",
    "#********** \n",
    "\n",
    "#********** "
   ]
  },
  {
   "cell_type": "code",
   "execution_count": 2,
   "id": "09df617b",
   "metadata": {},
   "outputs": [
    {
     "name": "stdout",
     "output_type": "stream",
     "text": [
      "**********\n",
      "**********\n",
      "**********\n",
      "**********\n",
      "**********\n"
     ]
    }
   ],
   "source": [
    "for i in range(5):\n",
    "    print('**********')"
   ]
  },
  {
   "cell_type": "markdown",
   "id": "e65211d3",
   "metadata": {},
   "source": [
    "### 3. Complete the code for the following for loop: \n",
    "\n",
    "for in range(1,7): \n",
    "\n",
    "//your code here \n",
    "\n",
    "so that it prints the following numbers, one per line:"
   ]
  },
  {
   "cell_type": "code",
   "execution_count": 3,
   "id": "1a99962f",
   "metadata": {},
   "outputs": [
    {
     "name": "stdout",
     "output_type": "stream",
     "text": [
      "1 2 4 30 -7 97 -4\n",
      "2 4 19 20 -3 94 14\n",
      "3 6 34 10 1 91 32\n",
      "4 8 49 0 5 88 50\n",
      "5 10 64 -10 9 85 68\n",
      "6 12 79 -20 13 82 86\n"
     ]
    }
   ],
   "source": [
    "for i in range(1,7):\n",
    "    a = i\n",
    "    b = i * 2\n",
    "    c = i * 15 - 11\n",
    "    d = 40 - 10 * i\n",
    "    e = 4 * i - 11\n",
    "    f = 97 - 3 * (i - 1)\n",
    "    g = (18 * (i - 1)) - 4\n",
    "    print(a,b,c,d,e,f,g)"
   ]
  },
  {
   "cell_type": "markdown",
   "id": "c3588ceb",
   "metadata": {},
   "source": [
    "### 4. Write a program to produce the following output using for loops. Then use a class constant to make it possible to change the number of lines in the figure. \n",
    "\n",
    "1 \n",
    "\n",
    "22 \n",
    "\n",
    "333 \n",
    "\n",
    "4444 \n",
    "\n",
    "55555 \n",
    "\n",
    "666666 \n",
    "\n",
    "7777777"
   ]
  },
  {
   "cell_type": "code",
   "execution_count": 4,
   "id": "e87f49e0",
   "metadata": {},
   "outputs": [
    {
     "name": "stdout",
     "output_type": "stream",
     "text": [
      "1\n",
      "22\n",
      "333\n",
      "4444\n",
      "55555\n",
      "666666\n",
      "7777777\n"
     ]
    }
   ],
   "source": [
    "class Figure:\n",
    "    NUM_LINES = 7  \n",
    "    \n",
    "    @classmethod\n",
    "    def print_figure(cls):\n",
    "        for i in range(1, cls.NUM_LINES + 1):\n",
    "            for j in range(i):\n",
    "                print(i, end=\"\")\n",
    "            print()\n",
    "Figure.print_figure()\n"
   ]
  },
  {
   "cell_type": "markdown",
   "id": "6baed871",
   "metadata": {},
   "source": [
    "### 5. Write a method named pay that accepts two parameters: a real number for a TA's salary, and an integer for the number of hours the TA worked this week. The method should return how much money to pay the TA. \n",
    "\n",
    "For example, the call\n",
    "\n",
    "pay(5.50, 6)  \n",
    "\n",
    "should return  \n",
    "\n",
    "33.0.  \n",
    "\n",
    "The TA should receive \"overtime\" pay of 1 ½ normal salary for any hours \n",
    "above 8. For example, the call pay(4.00, 11) should return (4.00 * \n",
    "8) + (6.00 * 3) or 50.0. "
   ]
  },
  {
   "cell_type": "code",
   "execution_count": 5,
   "id": "d5b4a91e",
   "metadata": {},
   "outputs": [
    {
     "name": "stdout",
     "output_type": "stream",
     "text": [
      "33.0\n",
      "50.0\n"
     ]
    }
   ],
   "source": [
    "def pay(salary, hours_worked):\n",
    "    normal_hours = min(8, hours_worked)\n",
    "    overtime_hours = max(0, hours_worked - 8)\n",
    "    overtime_rate = 1.5\n",
    "\n",
    "    total_payment = (normal_hours * salary) + (overtime_hours * salary * overtime_rate)\n",
    "    return total_payment\n",
    "\n",
    "\n",
    "result = pay(5.50, 6)\n",
    "print(result)  \n",
    "\n",
    "result = pay(4.00, 11)\n",
    "print(result)  "
   ]
  },
  {
   "cell_type": "markdown",
   "id": "80e555b5",
   "metadata": {},
   "source": [
    "### 6. Consider the following method for converting milliseconds into days: \n",
    "\n",
    "// converts milliseconds to days \n",
    "def toDays(millis):  \n",
    "return millis / 1000.0 / 60.0 / 60.0 / 24.0 \n",
    "\n",
    "Write a similar method named area that takes as a parameter the radius of \n",
    "a circle and that returns the area of the circle. For example, the call  \n",
    "\n",
    "area(2.0);  \n",
    "\n",
    "should return  \n",
    "\n",
    "12.566370614359172.  \n",
    "\n",
    "Recall that area can be computed as π times the radius squared and that \n",
    "Python has a constant called math.pi"
   ]
  },
  {
   "cell_type": "code",
   "execution_count": 6,
   "id": "a24f57c6",
   "metadata": {},
   "outputs": [
    {
     "name": "stdout",
     "output_type": "stream",
     "text": [
      "12.566370614359172\n"
     ]
    }
   ],
   "source": [
    "import math\n",
    "\n",
    "def area(radius):\n",
    "    return math.pi * radius ** 2\n",
    "\n",
    "# Example usage:\n",
    "radius = 2.0\n",
    "result = area(radius)\n",
    "print(result)\n"
   ]
  },
  {
   "cell_type": "markdown",
   "id": "d65d6c6e",
   "metadata": {},
   "source": [
    "### 7. Copy and paste the following code into pythons IDLE script environment. \n",
    "\n",
    "low = 1 \n",
    "high = 1001 \n",
    "sum = 0 \n",
    "for i in range(low,high): \n",
    "  sum += i \n",
    "\n",
    "print(\"sum = \" , sum) \n",
    "\n",
    "Modify the code to use a input to prompt the user for the values of low \n",
    "and high. Below is a sample execution in which the user asks for the same \n",
    "values as in the original program (1 through 1000): \n",
    "\n",
    "low? 1 \n",
    "high? 1001 \n",
    "sum = 500500 \n",
    "\n",
    "Below is an execution with different values for low and high: \n",
    "low? 300 \n",
    "high? 5298 \n",
    "sum = 13986903 \n",
    "\n",
    "You should exactly reproduce this format."
   ]
  },
  {
   "cell_type": "code",
   "execution_count": 7,
   "id": "8d1debd8",
   "metadata": {},
   "outputs": [
    {
     "name": "stdout",
     "output_type": "stream",
     "text": [
      "low? 1\n",
      "high? 1001\n",
      "sum =  500500\n"
     ]
    }
   ],
   "source": [
    "low = int(input(\"low? \"))\n",
    "high = int(input(\"high? \"))\n",
    "sum_result = 0\n",
    "\n",
    "for i in range(low, high):\n",
    "    sum_result += i\n",
    "\n",
    "print(\"sum = \", sum_result)"
   ]
  },
  {
   "cell_type": "markdown",
   "id": "3e6de6b5",
   "metadata": {},
   "source": [
    "### 8. Write a program using while loop that prompts the user for numbers until the user types 0, then outputs their sum."
   ]
  },
  {
   "cell_type": "code",
   "execution_count": 8,
   "id": "9bcb9b4e",
   "metadata": {},
   "outputs": [
    {
     "name": "stdout",
     "output_type": "stream",
     "text": [
      "Enter a number (type 0 to stop): 0\n",
      "Sum of the numbers:  0\n"
     ]
    }
   ],
   "source": [
    "total_sum = 0\n",
    "\n",
    "while True:\n",
    "    user_input = input(\"Enter a number (type 0 to stop): \")\n",
    "    \n",
    "    if user_input == '0':\n",
    "        break\n",
    "    \n",
    "    try:\n",
    "        number = float(user_input)\n",
    "        total_sum += number\n",
    "    except ValueError:\n",
    "        print(\"Invalid input. Please enter a valid number.\")\n",
    "\n",
    "print(\"Sum of the numbers: \", total_sum)"
   ]
  },
  {
   "cell_type": "markdown",
   "id": "c79a8c0e",
   "metadata": {},
   "source": [
    "### 9. Write a program using while loop that prompts the user for numbers until the user types -1, then outputs their sum."
   ]
  },
  {
   "cell_type": "code",
   "execution_count": 9,
   "id": "8d032c64",
   "metadata": {},
   "outputs": [
    {
     "name": "stdout",
     "output_type": "stream",
     "text": [
      "Enter a number (type -1 to stop): 1\n",
      "Enter a number (type -1 to stop): -1\n",
      "Sum of the numbers:  1.0\n"
     ]
    }
   ],
   "source": [
    "total_sum = 0\n",
    "\n",
    "while True:\n",
    "    user_input = input(\"Enter a number (type -1 to stop): \")\n",
    "    \n",
    "    if user_input == '-1':\n",
    "        break\n",
    "    \n",
    "    try:\n",
    "        number = float(user_input)\n",
    "        total_sum += number\n",
    "    except ValueError:\n",
    "        print(\"Invalid input. Please enter a valid number.\")\n",
    "\n",
    "print(\"Sum of the numbers: \", total_sum)"
   ]
  },
  {
   "cell_type": "markdown",
   "id": "5afaced0",
   "metadata": {},
   "source": [
    "### 10. Write a method named repl that accepts a String and a number of repetitions as parameters and returns the String concatenated that many times. For example, the call repl(\"hello\", 3) returns \"hellohellohello\". If the number of repetitions is 0 or less, an empty string is returned."
   ]
  },
  {
   "cell_type": "code",
   "execution_count": 10,
   "id": "db23a67b",
   "metadata": {},
   "outputs": [
    {
     "name": "stdout",
     "output_type": "stream",
     "text": [
      "hellohellohello\n"
     ]
    }
   ],
   "source": [
    "def repl(s, repetitions):\n",
    "    if repetitions <= 0:\n",
    "        return \"\"\n",
    "    else:\n",
    "        return s * repetitions\n",
    "\n",
    "\n",
    "result = repl(\"hello\", 3)\n",
    "print(result) "
   ]
  },
  {
   "cell_type": "markdown",
   "id": "463cd315",
   "metadata": {},
   "source": [
    "### 11. Write a method called printRange that accepts two integers as arguments and prints the sequence of numbers between the two arguments, separated by spaces. Print an increasing sequence if the first argument is smaller than the second; otherwise, print a decreasing sequence. If the two numbers are the same, that number should be printed by itself. Here are some sample calls to printRange:  \n",
    "\n",
    "printRange(2, 7) \n",
    "\n",
    "printRange(19, 11) \n",
    "\n",
    "printRange(5, 5) \n",
    "\n",
    "The output produced should be the following:  \n",
    "\n",
    "2 3 4 5 6 7  \n",
    "\n",
    "19 18 17 16 15 14 13 12 11 "
   ]
  },
  {
   "cell_type": "code",
   "execution_count": 11,
   "id": "a696e868",
   "metadata": {},
   "outputs": [
    {
     "name": "stdout",
     "output_type": "stream",
     "text": [
      "2 3 4 5 6 7 19 18 17 16 15 14 13 12 11 5\n"
     ]
    }
   ],
   "source": [
    "def printRange(start, end):\n",
    "    if start < end:\n",
    "        for i in range(start, end + 1):\n",
    "            print(i, end=\" \")\n",
    "    elif start > end:\n",
    "        for i in range(start, end - 1, -1):\n",
    "            print(i, end=\" \")\n",
    "    else:\n",
    "        print(start)\n",
    "\n",
    "\n",
    "printRange(2, 7)\n",
    "\n",
    "printRange(19, 11)\n",
    "\n",
    "printRange(5, 5)"
   ]
  },
  {
   "cell_type": "markdown",
   "id": "94c3e511",
   "metadata": {},
   "source": [
    "### 12. Write a method named smallestLargest that asks the user to enter numbers, then prints the smallest and largest of all the numbers typed in by the user. You may assume the user enters a valid number greater than 0 for the number of numbers to read. Here is an example dialogue:  \n",
    "\n",
    "How many numbers do you want to enter? 4 \n",
    "\n",
    "Number 1: 5 \n",
    "\n",
    "Number 2: 11 \n",
    "\n",
    "Number 3: -2 \n",
    "\n",
    "Number 4: 3 \n",
    "\n",
    "Smallest = -2 \n",
    "\n",
    "Largest = 11 "
   ]
  },
  {
   "cell_type": "code",
   "execution_count": null,
   "id": "258b5200",
   "metadata": {},
   "outputs": [],
   "source": []
  }
 ],
 "metadata": {
  "kernelspec": {
   "display_name": "Python 3 (ipykernel)",
   "language": "python",
   "name": "python3"
  },
  "language_info": {
   "codemirror_mode": {
    "name": "ipython",
    "version": 3
   },
   "file_extension": ".py",
   "mimetype": "text/x-python",
   "name": "python",
   "nbconvert_exporter": "python",
   "pygments_lexer": "ipython3",
   "version": "3.11.5"
  }
 },
 "nbformat": 4,
 "nbformat_minor": 5
}
