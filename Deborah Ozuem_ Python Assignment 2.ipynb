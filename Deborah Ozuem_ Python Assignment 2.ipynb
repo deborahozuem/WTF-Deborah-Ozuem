{
 "cells": [
  {
   "cell_type": "markdown",
   "id": "e9b1aebe",
   "metadata": {},
   "source": [
    "### 1. Write a program that finds the maximum value of the given list, assuming that the list contains at least one element. \n",
    "\n",
    "Try your program with the following array \n",
    "2 4 7 4 23 5 1 4 8 9"
   ]
  },
  {
   "cell_type": "code",
   "execution_count": 10,
   "id": "999a8786",
   "metadata": {},
   "outputs": [
    {
     "name": "stdout",
     "output_type": "stream",
     "text": [
      "23\n"
     ]
    }
   ],
   "source": [
    "my_list1 = [2, 4, 7, 4, 23, 5, 1, 4, 8, 9]\n",
    "print(max(my_list1))"
   ]
  },
  {
   "cell_type": "markdown",
   "id": "2e8d741f",
   "metadata": {},
   "source": [
    "### 2. Write a program that calculates the average value of the given list. \n",
    "\n",
    "Try your program with the following list \n",
    "4 7 1 5 11 53 12 46 84 23"
   ]
  },
  {
   "cell_type": "code",
   "execution_count": 5,
   "id": "8eed30a6",
   "metadata": {},
   "outputs": [
    {
     "name": "stdout",
     "output_type": "stream",
     "text": [
      "24.6\n"
     ]
    }
   ],
   "source": [
    "from statistics import mean\n",
    "my_list2 = [4, 7, 1, 5, 11, 53, 12, 46, 84, 23]\n",
    "print(mean(my_list2))"
   ]
  },
  {
   "cell_type": "markdown",
   "id": "7db316a5",
   "metadata": {},
   "source": [
    "Alternatively, to find the average;"
   ]
  },
  {
   "cell_type": "code",
   "execution_count": 12,
   "id": "9fd08361",
   "metadata": {},
   "outputs": [
    {
     "name": "stdout",
     "output_type": "stream",
     "text": [
      "24.6\n"
     ]
    }
   ],
   "source": [
    "def average(dee):\n",
    "    return sum(dee)/ len(dee)\n",
    "\n",
    "avg = average(my_list2)\n",
    "print(avg)"
   ]
  },
  {
   "cell_type": "markdown",
   "id": "b3ff1ff4",
   "metadata": {},
   "source": [
    "### 3.  Write a program that prints the given list of integers in reverse order. \n",
    "\n",
    "Try your program with the following list \n",
    "2 6 7 45 23 53 14 45 89 5"
   ]
  },
  {
   "cell_type": "code",
   "execution_count": 13,
   "id": "d45bdc6b",
   "metadata": {},
   "outputs": [
    {
     "name": "stdout",
     "output_type": "stream",
     "text": [
      "5\n",
      "89\n",
      "45\n",
      "14\n",
      "53\n",
      "23\n",
      "45\n",
      "7\n",
      "6\n",
      "2\n"
     ]
    }
   ],
   "source": [
    "my_list3 = [2, 6, 7, 45, 23, 53, 14, 45, 89, 5]\n",
    "\n",
    "for i in range(len(my_list3)-1, -1, -1):\n",
    "    print(my_list3[i])"
   ]
  },
  {
   "cell_type": "code",
   "execution_count": 16,
   "id": "10371980",
   "metadata": {},
   "outputs": [
    {
     "name": "stdout",
     "output_type": "stream",
     "text": [
      "[5, 89, 45, 14, 53, 23, 45, 7, 6, 2]\n"
     ]
    }
   ],
   "source": [
    "my_list3 = [2, 6, 7, 45, 23, 53, 14, 45, 89, 5]\n",
    "\n",
    "def Reverse(JD):\n",
    "    return(JD[::-1])\n",
    "\n",
    "print(Reverse(my_list3))"
   ]
  },
  {
   "cell_type": "markdown",
   "id": "16bdcde9",
   "metadata": {},
   "source": [
    "### 4. Write a program that accepts two lists of integers and prints true if each element in the first list is less than the element at the same index in the second list. Your program should print false if the lists are not the same length."
   ]
  },
  {
   "cell_type": "code",
   "execution_count": 8,
   "id": "2c586c6d",
   "metadata": {},
   "outputs": [
    {
     "name": "stdout",
     "output_type": "stream",
     "text": [
      "False\n"
     ]
    }
   ],
   "source": [
    "list1 = [1, 2, 3, 4, 9]\n",
    "list2 = [2, 3, 4, 5, 7]\n",
    "\n",
    "def compare_lists(list1, list2):\n",
    "    if len(list1) != len(list2):\n",
    "        print(False)\n",
    "        return\n",
    "    \n",
    "    \n",
    "    result = all(x <= y for x, y in zip(list1, list2))\n",
    "    print(result)\n",
    "\n",
    "compare_lists(list1, list2)"
   ]
  },
  {
   "cell_type": "markdown",
   "id": "04b582a8",
   "metadata": {},
   "source": [
    "### 5. Write a program that accepts a list of integers and two indexes and swaps the elements at those indexes"
   ]
  },
  {
   "cell_type": "code",
   "execution_count": 10,
   "id": "4b6023d9",
   "metadata": {},
   "outputs": [
    {
     "data": {
      "text/plain": [
       "[4, 3, 5, 2, 7]"
      ]
     },
     "execution_count": 10,
     "metadata": {},
     "output_type": "execute_result"
    }
   ],
   "source": [
    "def swapPositions(lis, pos1, pos2):\n",
    "    \n",
    "    for i, x in enumerate(lis):\n",
    "        \n",
    "        if i == pos1:\n",
    "            \n",
    "            elem1 = x\n",
    "            \n",
    "        if i == pos2:\n",
    "            \n",
    "            elem2 = x\n",
    "            \n",
    "    lis[pos1] = elem2\n",
    "    lis[pos2] = elem1\n",
    "    \n",
    "    return lis\n",
    "\n",
    "lis = [2, 3, 5, 4, 7]\n",
    "swapPositions(lis, 0, 3)"
   ]
  },
  {
   "cell_type": "markdown",
   "id": "76c5cbb5",
   "metadata": {},
   "source": [
    "### 6. Write a program that accepts two lists of integers and prints a new list containing all elements of the first list followed by all elements of the second. "
   ]
  },
  {
   "cell_type": "code",
   "execution_count": 11,
   "id": "4020ec26",
   "metadata": {},
   "outputs": [
    {
     "name": "stdout",
     "output_type": "stream",
     "text": [
      "New List: [1, 2, 3, 8, 5, 2, 3, 5, 4, 7]\n"
     ]
    }
   ],
   "source": [
    "def new_lists(list1, list2):\n",
    "    new_list = list1 + list2\n",
    "    print(\"New List:\", new_list)\n",
    "    \n",
    "list1 = [1, 2, 3, 8, 5]\n",
    "list2 = [2, 3, 5, 4, 7]\n",
    "\n",
    "new_lists(list1, list2)"
   ]
  },
  {
   "cell_type": "markdown",
   "id": "e914a38e",
   "metadata": {},
   "source": [
    "### 7. Write a program that accepts a list of integers and an integer value as its parameters and prints the last index at which the value occurs in the list. The program should print –1 if the value is not found.                            \n",
    "For example, in the list [74, 85, 102, 99, 101, 85, 56], the last index of the \n",
    "value 85 is 5."
   ]
  },
  {
   "cell_type": "code",
   "execution_count": 16,
   "id": "ea67495d",
   "metadata": {},
   "outputs": [
    {
     "data": {
      "text/plain": [
       "5"
      ]
     },
     "execution_count": 16,
     "metadata": {},
     "output_type": "execute_result"
    }
   ],
   "source": [
    "def last_occurrence(lst, val):\n",
    "    index = -1\n",
    "    while True:\n",
    "        try:\n",
    "            index = lst.index(val, index+1)\n",
    "        except ValueError:\n",
    "            return index\n",
    "            \n",
    "lst = [74, 85, 102, 99, 101, 85, 56]\n",
    "val = 85\n",
    "\n",
    "last_occurrence(lst, val)"
   ]
  },
  {
   "cell_type": "markdown",
   "id": "4c4a4a00",
   "metadata": {},
   "source": [
    "### 8. Write a program that prints the range of values in a list of integers. The range is defined as 1 more than the difference between the maximum and minimum values in the list.\n",
    "For example, if a list contains the values [36, 12, 25, 19, 46, 31, 22], the program should return \n",
    "35. You may assume that the list has at least one element."
   ]
  },
  {
   "cell_type": "code",
   "execution_count": 1,
   "id": "20363182",
   "metadata": {},
   "outputs": [
    {
     "name": "stdout",
     "output_type": "stream",
     "text": [
      "35\n"
     ]
    }
   ],
   "source": [
    "def print_range(list8):\n",
    "    if not list8:\n",
    "        return \"List is empty\"\n",
    "    range_value = max(list8) - min(list8) + 1\n",
    "    return range_value\n",
    "\n",
    "# Testing the  output\n",
    "print(print_range([36, 12, 25, 19, 46, 31, 22])) "
   ]
  },
  {
   "cell_type": "markdown",
   "id": "9e037870",
   "metadata": {},
   "source": [
    "### 9. Write a program that accepts a list of integers, a minimum value, and a maximum value and prints the count of how many elements from the list fall between the minimum and maximum (inclusive). \n",
    "\n",
    "For example, in the list [14, 1, 22, 17, 36, 7, -43, 5], for minimum value \n",
    "4 and maximum value 17, there are four elements whose values fall between 4 and 17."
   ]
  },
  {
   "cell_type": "code",
   "execution_count": 2,
   "id": "4747b12f",
   "metadata": {},
   "outputs": [
    {
     "name": "stdout",
     "output_type": "stream",
     "text": [
      "4\n"
     ]
    }
   ],
   "source": [
    "def count_elements_in_range(list9, min_value, max_value):\n",
    "    return len([i for i in list9 if min_value <= i <= max_value])\n",
    "\n",
    "# Testing the  output\n",
    "print(count_elements_in_range([14, 1, 22, 17, 36, 7, -43, 5], 4, 17))  \n"
   ]
  },
  {
   "cell_type": "markdown",
   "id": "64a12195",
   "metadata": {},
   "source": [
    "### 10. Write a program that accepts a list of real numbers and prints true if the list is in sorted (nondecreasing) order and false otherwise. \n",
    "\n",
    "For example, if lists named list1 and list2 store \n",
    "[16.1, 12.3, 22.2, 14.4] and [1.5, 4.3, 7.0, 19.5, 25.1, 46.2] respectively, the program should \n",
    "print false for list1 and true for list2 respectively. Assume the list has at least one element. A \n",
    "one-element list is sorted."
   ]
  },
  {
   "cell_type": "code",
   "execution_count": 3,
   "id": "1bb6747f",
   "metadata": {},
   "outputs": [
    {
     "name": "stdout",
     "output_type": "stream",
     "text": [
      "False\n",
      "True\n"
     ]
    }
   ],
   "source": [
    "def is_sorted(list10):\n",
    "    return all(list10[i] <= list10[i+1] for i in range(len(list10)-1))\n",
    "\n",
    "# Testing the  output\n",
    "numbers = [16.1, 12.3, 22.2, 14.4]\n",
    "print(is_sorted(numbers))  \n",
    "\n",
    "numbers = [1.5, 4.3, 7.0, 19.5, 25.1, 46.2]\n",
    "print(is_sorted(numbers)) "
   ]
  }
 ],
 "metadata": {
  "kernelspec": {
   "display_name": "Python 3 (ipykernel)",
   "language": "python",
   "name": "python3"
  },
  "language_info": {
   "codemirror_mode": {
    "name": "ipython",
    "version": 3
   },
   "file_extension": ".py",
   "mimetype": "text/x-python",
   "name": "python",
   "nbconvert_exporter": "python",
   "pygments_lexer": "ipython3",
   "version": "3.11.5"
  }
 },
 "nbformat": 4,
 "nbformat_minor": 5
}
